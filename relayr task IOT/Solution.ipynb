{
 "cells": [
  {
   "cell_type": "markdown",
   "metadata": {},
   "source": [
    "**Task description:** predict ‘outcome’ based on the other attributes.\n",
    "\n",
    "The identifiers are as follows:\n",
    "\n",
    "- unique-id: project identifier\n",
    "- title: project title\n",
    "- description: project description\n",
    "- target: funding goal\n",
    "- keywords: project keywords\n",
    "- communication: is communication with the author possible?\n",
    "- location: country of origin\n",
    "- currency: currency of funding goal\n",
    "- closing-date: date at which funding ends\n",
    "- state-changed: date at which the project status changed. status could be success, postponed or failed.\n",
    "- created: date at which the project was posted\n",
    "- launched: date at which project went live\n",
    "- outcome: success, failure (1, 0)\n"
   ]
  },
  {
   "cell_type": "markdown",
   "metadata": {},
   "source": [
    "**Solution contains**\n",
    " - visualizations (part 1)\n",
    " - framework to evaluate the performance of model (in module utils.py) (part 2)\n",
    " - feature engineering (parts 3,4)\n",
    " - model business results evaluation (part 5)\n",
    "\n",
    "**Questions & Answers**\n",
    "- Rationale for choosing the model: \n",
    ">I used xgboost model - it show good results for such type of tasks.\n",
    "\n",
    "- What features seem to be most important for the prediction? How did you find out that these features are important?\n",
    ">We can define them by feature importance in xgboost/random forest (I prefer to set importance_type='gain' to see a list of the most powerfull features)\n",
    "\n",
    "- Top 10 features of final model:\n",
    "~~~~\n",
    "    * created_year - year part of \"created\" date\n",
    "    * target - Pure feature \"target\"\n",
    "    * words_kmeans_title - tfidf by words followed by kmean on \"title\" feature\n",
    "    * letters_FICA_title1 - second component of Independed Comp. Analysis of tfidf by letters on \"title\" feature\n",
    "    * communication - Pure feature \"communication\"\n",
    "    * closing_state_changed_secs - difference in sec between \"closing-date\" and \"state-changed\" dates\n",
    "    * title_clrd_WordCount - count of words on cleared \"title\" feature\n",
    "    * location - labelEncoded feature \"location\"\n",
    "    * state_changed_launched_secs - difference in sec between \"state-changed\" and \"launched\" dates\n",
    "    * launched_year - year part of \"launched\" date\n",
    "~~~~\n",
    "- How would you evaluate the performance of your model? \n",
    ">I used 5-fold cross validation with ROC-AUC metric.\n",
    "\n",
    ">For business results evaluation see part 5 - lift/gain plots \n",
    "\n",
    "- Can you identify a weakness of your model? If you identified a weakness, do you have an idea of how to overcome it?\n",
    ">The common weakness of boosting / tree-based models is a poor interpretability. We can cneck feature importance or use single decision tree or logistic regression to see the logic of the models.\n",
    "\n",
    "- Can you engineer features that improve the prediction? What was guiding you to find them?\n",
    ">Time lags and text processing usually improove score. \n",
    "\n",
    ">Total performance improovment due to feature engineering: from 0.65096 to 0.73921 ROC AUC\n",
    "\n",
    "- If you were given an extended amount of time to work with this dataset, what other more in-depth approaches would you take to improve the accuracy of your prediction?\n",
    "~~~~\n",
    "    * More feature engineering, create new features (for ex. for text features we can try word embedding to obtain vector representation of words and use it as new features for xgboost model)\n",
    "\t* Try&combine different ml models\n",
    "    * Hyperparameter xgboost optimization (hyperopt / bayesopt)\n",
    "    * Decrease count of features to improve score (greedy feature selection, L1-based feature selection, etc.)\n",
    "~~~~\t\n"
   ]
  },
  {
   "cell_type": "markdown",
   "metadata": {},
   "source": [
    "### imports & data load"
   ]
  },
  {
   "cell_type": "code",
   "execution_count": 68,
   "metadata": {
    "ExecuteTime": {
     "end_time": "2018-01-10T12:19:28.284395Z",
     "start_time": "2018-01-10T12:19:21.396706Z"
    }
   },
   "outputs": [
    {
     "name": "stdout",
     "output_type": "stream",
     "text": [
      "Populating the interactive namespace from numpy and matplotlib\n"
     ]
    }
   ],
   "source": [
    "import pandas as pd\n",
    "import numpy as np\n",
    "from __future__ import division\n",
    "\n",
    "import seaborn as sns\n",
    "%pylab inline\n",
    "\n",
    "import warnings\n",
    "warnings.filterwarnings(\"ignore\")\n",
    "\n",
    "pd.set_option('display.max_columns', None)\n",
    "\n",
    "import matplotlib.pyplot as plt\n",
    "plt.style.use('seaborn-white')\n",
    "\n",
    "\n",
    "from sklearn.preprocessing import LabelEncoder \n",
    "from sklearn.cross_validation import StratifiedKFold\n",
    "from utils import *\n",
    "import sys\n",
    "\n",
    "from sklearn.feature_extraction.text import TfidfVectorizer, CountVectorizer\n",
    "from sklearn.decomposition import TruncatedSVD\n",
    "from sklearn.preprocessing import StandardScaler\n",
    "from sklearn.decomposition import PCA, FastICA\n",
    "from sklearn.cluster import KMeans"
   ]
  },
  {
   "cell_type": "code",
   "execution_count": 3,
   "metadata": {
    "ExecuteTime": {
     "end_time": "2018-01-10T12:19:36.382204Z",
     "start_time": "2018-01-10T12:19:35.058072Z"
    }
   },
   "outputs": [
    {
     "name": "stdout",
     "output_type": "stream",
     "text": [
      "(108129, 13)\n"
     ]
    },
    {
     "data": {
      "text/html": [
       "<div>\n",
       "<style scoped>\n",
       "    .dataframe tbody tr th:only-of-type {\n",
       "        vertical-align: middle;\n",
       "    }\n",
       "\n",
       "    .dataframe tbody tr th {\n",
       "        vertical-align: top;\n",
       "    }\n",
       "\n",
       "    .dataframe thead th {\n",
       "        text-align: right;\n",
       "    }\n",
       "</style>\n",
       "<table border=\"1\" class=\"dataframe\">\n",
       "  <thead>\n",
       "    <tr style=\"text-align: right;\">\n",
       "      <th></th>\n",
       "      <th>unique-id</th>\n",
       "      <th>title</th>\n",
       "      <th>description</th>\n",
       "      <th>target</th>\n",
       "      <th>keywords</th>\n",
       "      <th>communication</th>\n",
       "      <th>location</th>\n",
       "      <th>currency</th>\n",
       "      <th>closing-date</th>\n",
       "      <th>state-changed</th>\n",
       "      <th>created</th>\n",
       "      <th>launched</th>\n",
       "      <th>outcome</th>\n",
       "    </tr>\n",
       "  </thead>\n",
       "  <tbody>\n",
       "    <tr>\n",
       "      <th>72347</th>\n",
       "      <td>kkst803243273</td>\n",
       "      <td>Privacy Legion</td>\n",
       "      <td>Privacy Legion is a secure texting service tha...</td>\n",
       "      <td>50000.0</td>\n",
       "      <td>privacy-legion</td>\n",
       "      <td>True</td>\n",
       "      <td>US</td>\n",
       "      <td>USD</td>\n",
       "      <td>1410131070</td>\n",
       "      <td>1410131072</td>\n",
       "      <td>1407245798</td>\n",
       "      <td>1407539070</td>\n",
       "      <td>0</td>\n",
       "    </tr>\n",
       "    <tr>\n",
       "      <th>19877</th>\n",
       "      <td>kkst1372827421</td>\n",
       "      <td>\"\"\"\"\"\"\"\"\"\"\"\"\"\"\"\"\"\"\"\"\"\"\"\"\"\"\"\"\"\"\"\"\"\"\"\"\"\"\"\"\"\"\"\"\"\"...</td>\n",
       "      <td>This is the story of a man who finally realize...</td>\n",
       "      <td>15000.0</td>\n",
       "      <td>el-tesoro-dentro-de-mi</td>\n",
       "      <td>True</td>\n",
       "      <td>US</td>\n",
       "      <td>USD</td>\n",
       "      <td>1335920574</td>\n",
       "      <td>1335920574</td>\n",
       "      <td>1330477082</td>\n",
       "      <td>1330740174</td>\n",
       "      <td>0</td>\n",
       "    </tr>\n",
       "    <tr>\n",
       "      <th>90614</th>\n",
       "      <td>kkst530466473</td>\n",
       "      <td>End Online - The Novel</td>\n",
       "      <td>Raising funds to not only distribute to bookst...</td>\n",
       "      <td>5000.0</td>\n",
       "      <td>end-online-the-novel</td>\n",
       "      <td>True</td>\n",
       "      <td>AU</td>\n",
       "      <td>AUD</td>\n",
       "      <td>1423095727</td>\n",
       "      <td>1423095727</td>\n",
       "      <td>1420267050</td>\n",
       "      <td>1420503727</td>\n",
       "      <td>0</td>\n",
       "    </tr>\n",
       "  </tbody>\n",
       "</table>\n",
       "</div>"
      ],
      "text/plain": [
       "            unique-id                                              title  \\\n",
       "72347   kkst803243273                                     Privacy Legion   \n",
       "19877  kkst1372827421  \"\"\"\"\"\"\"\"\"\"\"\"\"\"\"\"\"\"\"\"\"\"\"\"\"\"\"\"\"\"\"\"\"\"\"\"\"\"\"\"\"\"\"\"\"\"...   \n",
       "90614   kkst530466473                             End Online - The Novel   \n",
       "\n",
       "                                             description   target  \\\n",
       "72347  Privacy Legion is a secure texting service tha...  50000.0   \n",
       "19877  This is the story of a man who finally realize...  15000.0   \n",
       "90614  Raising funds to not only distribute to bookst...   5000.0   \n",
       "\n",
       "                     keywords  communication location currency  closing-date  \\\n",
       "72347          privacy-legion           True       US      USD    1410131070   \n",
       "19877  el-tesoro-dentro-de-mi           True       US      USD    1335920574   \n",
       "90614    end-online-the-novel           True       AU      AUD    1423095727   \n",
       "\n",
       "       state-changed     created    launched  outcome  \n",
       "72347     1410131072  1407245798  1407539070        0  \n",
       "19877     1335920574  1330477082  1330740174        0  \n",
       "90614     1423095727  1420267050  1420503727        0  "
      ]
     },
     "execution_count": 3,
     "metadata": {},
     "output_type": "execute_result"
    }
   ],
   "source": [
    "df = pd.read_csv('dataset.csv')\n",
    "print (df.shape)\n",
    "df.sample(3)"
   ]
  },
  {
   "cell_type": "markdown",
   "metadata": {},
   "source": [
    "## 1. Visualizations"
   ]
  },
  {
   "cell_type": "markdown",
   "metadata": {},
   "source": [
    "### 1.1. Connections between target by quantiles and outcome:"
   ]
  },
  {
   "cell_type": "code",
   "execution_count": 4,
   "metadata": {},
   "outputs": [
    {
     "data": {
      "text/plain": [
       "(0.009, 600.0]            11084\n",
       "(600.0, 1350.0]           10569\n",
       "(1350.0, 2307.6]          10786\n",
       "(2307.6, 3500.0]          12961\n",
       "(3500.0, 5000.0]          13889\n",
       "(5000.0, 7000.0]           6368\n",
       "(7000.0, 10000.0]         12612\n",
       "(10000.0, 18000.0]         8545\n",
       "(18000.0, 36392.0]        10502\n",
       "(36392.0, 100000000.0]    10813\n",
       "Name: target, dtype: int64"
      ]
     },
     "execution_count": 4,
     "metadata": {},
     "output_type": "execute_result"
    }
   ],
   "source": [
    "pd.qcut(df['target'], 10).value_counts().sort_index()"
   ]
  },
  {
   "cell_type": "code",
   "execution_count": 5,
   "metadata": {},
   "outputs": [
    {
     "data": {
      "text/plain": [
       "Text(0.5,0.98,'Outcome % by target quantiles')"
      ]
     },
     "execution_count": 5,
     "metadata": {},
     "output_type": "execute_result"
    },
    {
     "data": {
      "image/png": "[encoded data removed]",
      "text/plain": [
       "<matplotlib.figure.Figure at 0xc4bcac8>"
      ]
     },
     "metadata": {},
     "output_type": "display_data"
    }
   ],
   "source": [
    "sns.set(font_scale=2)\n",
    "df['target_q20'] = pd.qcut(df['target'], 20)\n",
    "g = sns.factorplot(x=\"target_q20\", y=\"outcome\",data=df, kind=\"bar\",size=6, aspect=2)\n",
    "g.set_xticklabels(rotation=90)\n",
    "g.fig.suptitle(\"Outcome % by target quantiles\")"
   ]
  },
  {
   "cell_type": "code",
   "execution_count": 61,
   "metadata": {},
   "outputs": [
    {
     "data": {
      "text/plain": [
       "<seaborn.axisgrid.FacetGrid at 0x190ec8d0>"
      ]
     },
     "execution_count": 61,
     "metadata": {},
     "output_type": "execute_result"
    },
    {
     "data": {
      "image/png": "[encoded data removed]",
      "text/plain": [
       "<matplotlib.figure.Figure at 0x1a152978>"
      ]
     },
     "metadata": {},
     "output_type": "display_data"
    }
   ],
   "source": [
    "df['target_q10'] = pd.qcut(df['target'], 10)\n",
    "sns.factorplot(\"outcome\", col=\"target_q10\", col_wrap=5,data=df, kind=\"count\", size=2.5, aspect=.8)"
   ]
  },
  {
   "cell_type": "markdown",
   "metadata": {},
   "source": [
    "**Conclusion:** strong outcome decreasing by target quantiles"
   ]
  },
  {
   "cell_type": "markdown",
   "metadata": {},
   "source": [
    "### 1.2. Outcome by location"
   ]
  },
  {
   "cell_type": "code",
   "execution_count": 125,
   "metadata": {},
   "outputs": [
    {
     "data": {
      "image/png": "[encoded data removed]",
      "text/plain": [
       "<matplotlib.figure.Figure at 0x22be4278>"
      ]
     },
     "metadata": {},
     "output_type": "display_data"
    }
   ],
   "source": [
    "ax = plt.axes()\n",
    "sns.barplot(x=\"location\", y=\"outcome\", data=df, ax=ax)\n",
    "ax.set_title('Outcome % by location')\n",
    "plt.show()"
   ]
  },
  {
   "cell_type": "code",
   "execution_count": 128,
   "metadata": {},
   "outputs": [
    {
     "data": {
      "image/png": "[encoded data removed]",
      "text/plain": [
       "<matplotlib.figure.Figure at 0x22a5f2e8>"
      ]
     },
     "metadata": {},
     "output_type": "display_data"
    }
   ],
   "source": [
    "ax = plt.axes()\n",
    "sns.barplot(x=\"currency\", y=\"outcome\", data=df, ax=ax)\n",
    "ax.set_title('Outcome % by currency')\n",
    "plt.show()"
   ]
  },
  {
   "cell_type": "markdown",
   "metadata": {},
   "source": [
    "## 2. Simple model + performance evaluating"
   ]
  },
  {
   "cell_type": "code",
   "execution_count": 3,
   "metadata": {
    "ExecuteTime": {
     "end_time": "2018-01-10T12:52:57.566303Z",
     "start_time": "2018-01-10T12:52:57.508297Z"
    }
   },
   "outputs": [
    {
     "data": {
      "text/html": [
       "<div>\n",
       "<style>\n",
       "    .dataframe thead tr:only-child th {\n",
       "        text-align: right;\n",
       "    }\n",
       "\n",
       "    .dataframe thead th {\n",
       "        text-align: left;\n",
       "    }\n",
       "\n",
       "    .dataframe tbody tr th {\n",
       "        vertical-align: top;\n",
       "    }\n",
       "</style>\n",
       "<table border=\"1\" class=\"dataframe\">\n",
       "  <thead>\n",
       "    <tr style=\"text-align: right;\">\n",
       "      <th></th>\n",
       "      <th>unique-id</th>\n",
       "      <th>title</th>\n",
       "      <th>description</th>\n",
       "      <th>target</th>\n",
       "      <th>keywords</th>\n",
       "      <th>communication</th>\n",
       "      <th>location</th>\n",
       "      <th>currency</th>\n",
       "      <th>closing-date</th>\n",
       "      <th>state-changed</th>\n",
       "      <th>created</th>\n",
       "      <th>launched</th>\n",
       "      <th>outcome</th>\n",
       "    </tr>\n",
       "  </thead>\n",
       "  <tbody>\n",
       "    <tr>\n",
       "      <th>62139</th>\n",
       "      <td>kkst1386677468</td>\n",
       "      <td>1914 Centenary Memory Boards</td>\n",
       "      <td>For adults and children to connect with the ev...</td>\n",
       "      <td>130.0</td>\n",
       "      <td>1914-centenary-memory-boards</td>\n",
       "      <td>True</td>\n",
       "      <td>GB</td>\n",
       "      <td>GBP</td>\n",
       "      <td>1404081836</td>\n",
       "      <td>1404081836</td>\n",
       "      <td>1401047706</td>\n",
       "      <td>1401489836</td>\n",
       "      <td>0</td>\n",
       "    </tr>\n",
       "  </tbody>\n",
       "</table>\n",
       "</div>"
      ],
      "text/plain": [
       "            unique-id                         title  \\\n",
       "62139  kkst1386677468  1914 Centenary Memory Boards   \n",
       "\n",
       "                                             description  target  \\\n",
       "62139  For adults and children to connect with the ev...   130.0   \n",
       "\n",
       "                           keywords  communication location currency  \\\n",
       "62139  1914-centenary-memory-boards           True       GB      GBP   \n",
       "\n",
       "       closing-date state-changed     created    launched outcome  \n",
       "62139    1404081836    1404081836  1401047706  1401489836       0  "
      ]
     },
     "execution_count": 3,
     "metadata": {},
     "output_type": "execute_result"
    }
   ],
   "source": [
    "df.sample()"
   ]
  },
  {
   "cell_type": "code",
   "execution_count": 6,
   "metadata": {
    "ExecuteTime": {
     "end_time": "2018-01-10T12:53:16.893235Z",
     "start_time": "2018-01-10T12:53:16.884234Z"
    }
   },
   "outputs": [],
   "source": [
    "to_date = ['closing-date','state-changed','created','launched']"
   ]
  },
  {
   "cell_type": "code",
   "execution_count": 7,
   "metadata": {
    "ExecuteTime": {
     "end_time": "2018-01-10T12:53:20.254571Z",
     "start_time": "2018-01-10T12:53:19.466493Z"
    }
   },
   "outputs": [],
   "source": [
    "for col in to_date:\n",
    "    df[col] = pd.to_datetime(df[col], unit='s')"
   ]
  },
  {
   "cell_type": "code",
   "execution_count": 8,
   "metadata": {
    "ExecuteTime": {
     "end_time": "2018-01-10T12:53:35.262072Z",
     "start_time": "2018-01-10T12:53:35.237069Z"
    }
   },
   "outputs": [],
   "source": [
    "df_orig = df.copy()"
   ]
  },
  {
   "cell_type": "code",
   "execution_count": 9,
   "metadata": {
    "ExecuteTime": {
     "end_time": "2018-01-10T12:53:40.511597Z",
     "start_time": "2018-01-10T12:53:40.247570Z"
    }
   },
   "outputs": [],
   "source": [
    "skf = StratifiedKFold(df.outcome, n_folds=5, shuffle=True, random_state=RANDOM_STATE)"
   ]
  },
  {
   "cell_type": "code",
   "execution_count": 12,
   "metadata": {
    "ExecuteTime": {
     "end_time": "2018-01-10T12:53:47.017247Z",
     "start_time": "2018-01-10T12:53:45.820128Z"
    }
   },
   "outputs": [],
   "source": [
    "le = LabelEncoder()\n",
    "for col in df.select_dtypes(include=['object']).columns:\n",
    "    df[col] = le.fit_transform(df[col].fillna(''))"
   ]
  },
  {
   "cell_type": "code",
   "execution_count": 19,
   "metadata": {},
   "outputs": [
    {
     "name": "stdout",
     "output_type": "stream",
     "text": [
      "Fold: 0 AUC: 0.65458 nrounds: 275 time: 0.4 min\n",
      "Fold: 1 AUC: 0.64684 nrounds: 127 time: 0.6 min\n",
      "Fold: 2 AUC: 0.64848 nrounds: 138 time: 1.1 min\n",
      "Fold: 3 AUC: 0.65296 nrounds: 189 time: 1.3 min\n",
      "Fold: 4 AUC: 0.65194 nrounds: 245 time: 1.6 min\n",
      "Mean AUC: 0.65096 (std: 0.00287) mean nrounds: 194.8\n",
      "------------------------------\n",
      "Feature importance (gini):\n",
      "         feature    fscore\n",
      "7  communication  0.242263\n",
      "6       currency  0.188288\n",
      "5         target  0.175673\n",
      "4       location  0.120590\n",
      "3    description  0.094034\n",
      "2          title  0.064110\n",
      "1       keywords  0.060483\n",
      "0      unique-id  0.054559\n"
     ]
    }
   ],
   "source": [
    "f = simple_xgb(xgb0, df.drop(to_date+['outcome'],1), df.outcome, skf, 50, 2017, show_feature_imp=True)"
   ]
  },
  {
   "cell_type": "markdown",
   "metadata": {},
   "source": [
    "**Conclusion:** 0.65096 ROC AUC with simple xgboost model"
   ]
  },
  {
   "cell_type": "markdown",
   "metadata": {},
   "source": [
    "#### Use target quantiles instead of target\n",
    "insignificantly score improovment: 0.65096 -> 0.65114"
   ]
  },
  {
   "cell_type": "code",
   "execution_count": 11,
   "metadata": {},
   "outputs": [
    {
     "data": {
      "text/html": [
       "<div>\n",
       "<style scoped>\n",
       "    .dataframe tbody tr th:only-of-type {\n",
       "        vertical-align: middle;\n",
       "    }\n",
       "\n",
       "    .dataframe tbody tr th {\n",
       "        vertical-align: top;\n",
       "    }\n",
       "\n",
       "    .dataframe thead th {\n",
       "        text-align: right;\n",
       "    }\n",
       "</style>\n",
       "<table border=\"1\" class=\"dataframe\">\n",
       "  <thead>\n",
       "    <tr style=\"text-align: right;\">\n",
       "      <th></th>\n",
       "      <th>unique-id</th>\n",
       "      <th>title</th>\n",
       "      <th>description</th>\n",
       "      <th>target</th>\n",
       "      <th>keywords</th>\n",
       "      <th>communication</th>\n",
       "      <th>location</th>\n",
       "      <th>currency</th>\n",
       "      <th>closing-date</th>\n",
       "      <th>state-changed</th>\n",
       "      <th>created</th>\n",
       "      <th>launched</th>\n",
       "      <th>outcome</th>\n",
       "      <th>target_q20</th>\n",
       "    </tr>\n",
       "  </thead>\n",
       "  <tbody>\n",
       "    <tr>\n",
       "      <th>6791</th>\n",
       "      <td>kkst413853320</td>\n",
       "      <td>PAINing POORtraits: Destruction of the Image</td>\n",
       "      <td>An exploration of the symbolism of ART through...</td>\n",
       "      <td>66600.0</td>\n",
       "      <td>paining-poortraits-destruction-of-the-image</td>\n",
       "      <td>True</td>\n",
       "      <td>US</td>\n",
       "      <td>USD</td>\n",
       "      <td>2011-05-16 20:56:22</td>\n",
       "      <td>2011-05-16 20:56:25</td>\n",
       "      <td>2011-02-11 22:46:09</td>\n",
       "      <td>2011-02-14 21:56:22</td>\n",
       "      <td>0</td>\n",
       "      <td>18</td>\n",
       "    </tr>\n",
       "  </tbody>\n",
       "</table>\n",
       "</div>"
      ],
      "text/plain": [
       "          unique-id                                         title  \\\n",
       "6791  kkst413853320  PAINing POORtraits: Destruction of the Image   \n",
       "\n",
       "                                            description   target  \\\n",
       "6791  An exploration of the symbolism of ART through...  66600.0   \n",
       "\n",
       "                                         keywords  communication location  \\\n",
       "6791  paining-poortraits-destruction-of-the-image           True       US   \n",
       "\n",
       "     currency        closing-date       state-changed             created  \\\n",
       "6791      USD 2011-05-16 20:56:22 2011-05-16 20:56:25 2011-02-11 22:46:09   \n",
       "\n",
       "                launched  outcome  target_q20  \n",
       "6791 2011-02-14 21:56:22        0          18  "
      ]
     },
     "execution_count": 11,
     "metadata": {},
     "output_type": "execute_result"
    }
   ],
   "source": [
    "df['target_q20'] = pd.qcut(df['target'], 20, labels=False)\n",
    "df.sample()"
   ]
  },
  {
   "cell_type": "code",
   "execution_count": 14,
   "metadata": {},
   "outputs": [
    {
     "name": "stdout",
     "output_type": "stream",
     "text": [
      "Fold: 0 AUC: 0.65416 nrounds: 227 time: 0.3 min\n",
      "Fold: 1 AUC: 0.64675 nrounds: 242 time: 0.5 min\n",
      "Fold: 2 AUC: 0.64986 nrounds: 178 time: 0.9 min\n",
      "Fold: 3 AUC: 0.65274 nrounds: 152 time: 1.2 min\n",
      "Fold: 4 AUC: 0.65219 nrounds: 206 time: 1.5 min\n",
      "Mean AUC: 0.65114 (std: 0.00259) mean nrounds: 201.0\n",
      "------------------------------\n",
      "Feature importance (gini):\n",
      "         feature    fscore\n",
      "7       currency  0.231758\n",
      "6     target_q20  0.226943\n",
      "5  communication  0.199684\n",
      "4       location  0.095911\n",
      "3    description  0.083965\n",
      "2          title  0.056910\n",
      "1       keywords  0.056052\n",
      "0      unique-id  0.048777\n"
     ]
    }
   ],
   "source": [
    "f = simple_xgb(xgb0, df.drop(to_date+['outcome','target'],1), df.outcome, skf, 50, 2017, show_feature_imp=True)"
   ]
  },
  {
   "cell_type": "markdown",
   "metadata": {},
   "source": [
    "## 3. Feature engineering: dates"
   ]
  },
  {
   "cell_type": "markdown",
   "metadata": {},
   "source": [
    "### 3.1. Add lags between dates\n",
    "significantly score improovment: 0.65114 -> 0.69194"
   ]
  },
  {
   "cell_type": "code",
   "execution_count": 15,
   "metadata": {},
   "outputs": [],
   "source": [
    "df['closing_state_changed_secs'] = (df['closing-date']-df['state-changed']).dt.seconds\n",
    "df['state_changed_launched_secs'] = (df['state-changed']-df['launched']).dt.seconds\n",
    "df['launched_created_secs'] = (df['launched']-df['created']).dt.seconds"
   ]
  },
  {
   "cell_type": "code",
   "execution_count": 16,
   "metadata": {},
   "outputs": [],
   "source": [
    "df = df.drop(['target_q20','unique-id'],1)"
   ]
  },
  {
   "cell_type": "code",
   "execution_count": 17,
   "metadata": {},
   "outputs": [
    {
     "name": "stdout",
     "output_type": "stream",
     "text": [
      "Fold: 0 AUC: 0.69624 nrounds: 231 time: 0.3 min\n",
      "Fold: 1 AUC: 0.69134 nrounds: 202 time: 0.6 min\n",
      "Fold: 2 AUC: 0.68889 nrounds: 164 time: 0.8 min\n",
      "Fold: 3 AUC: 0.69285 nrounds: 169 time: 1.0 min\n",
      "Fold: 4 AUC: 0.69039 nrounds: 313 time: 1.4 min\n",
      "Mean AUC: 0.69194 (std: 0.00250) mean nrounds: 215.8\n",
      "------------------------------\n",
      "Feature importance (gini):\n",
      "                       feature    fscore\n",
      "9   closing_state_changed_secs  0.197636\n",
      "8                     currency  0.167818\n",
      "7                communication  0.136115\n",
      "6                       target  0.127707\n",
      "5                     location  0.090847\n",
      "4                  description  0.066994\n",
      "3  state_changed_launched_secs  0.061809\n",
      "2        launched_created_secs  0.051541\n",
      "1                        title  0.050714\n",
      "0                     keywords  0.048821\n"
     ]
    }
   ],
   "source": [
    "f = simple_xgb(xgb0, df.drop(to_date+['outcome', ],1), df.outcome, skf, 50, 2017, show_feature_imp=True)"
   ]
  },
  {
   "cell_type": "markdown",
   "metadata": {},
   "source": [
    "### 3.2. Parse dates \n",
    "significantly score improovment: 0.69194 -> 0.72055"
   ]
  },
  {
   "cell_type": "code",
   "execution_count": 18,
   "metadata": {},
   "outputs": [],
   "source": [
    "##add more DT feats\n",
    "for col in to_date:\n",
    "    df[col+'_year'] = df[col].apply(lambda x: x.year)\n",
    "    df[col+'_week'] = df[col].apply(lambda x: x.week)\n",
    "    df[col+'_dayofweek'] = df[col].apply(lambda x: x.dayofweek)\n",
    "    df[col+'_dayofyear'] = df[col].apply(lambda x: x.dayofyear)"
   ]
  },
  {
   "cell_type": "code",
   "execution_count": 19,
   "metadata": {},
   "outputs": [
    {
     "name": "stdout",
     "output_type": "stream",
     "text": [
      "Fold: 0 AUC: 0.71977 nrounds: 217 time: 0.4 min\n",
      "Fold: 1 AUC: 0.71975 nrounds: 305 time: 0.9 min\n",
      "Fold: 2 AUC: 0.71769 nrounds: 241 time: 1.2 min\n",
      "Fold: 3 AUC: 0.72508 nrounds: 169 time: 1.5 min\n",
      "Fold: 4 AUC: 0.72047 nrounds: 275 time: 1.9 min\n",
      "Mean AUC: 0.72055 (std: 0.00245) mean nrounds: 241.4\n",
      "------------------------------\n",
      "Feature importance (gini):\n",
      "                        feature    fscore\n",
      "25                 created_year  0.131560\n",
      "24   closing_state_changed_secs  0.104928\n",
      "23                       target  0.072935\n",
      "22                launched_year  0.069974\n",
      "21           state-changed_year  0.044475\n",
      "20                communication  0.042259\n",
      "19                     location  0.035405\n",
      "18            closing-date_year  0.033838\n",
      "17            created_dayofyear  0.032670\n",
      "16           launched_dayofyear  0.031835\n",
      "15  state_changed_launched_secs  0.031615\n",
      "14                  description  0.031380\n",
      "13                     currency  0.029662\n",
      "12                 created_week  0.027507\n",
      "11                launched_week  0.027324\n",
      "10       closing-date_dayofyear  0.026784\n",
      "9       state-changed_dayofweek  0.026471\n",
      "8       state-changed_dayofyear  0.025610\n",
      "7         launched_created_secs  0.024900\n",
      "6                      keywords  0.023612\n",
      "5                         title  0.022704\n",
      "4            launched_dayofweek  0.022091\n",
      "3            state-changed_week  0.021230\n",
      "2             closing-date_week  0.020490\n",
      "1        closing-date_dayofweek  0.019759\n",
      "0             created_dayofweek  0.018981\n"
     ]
    }
   ],
   "source": [
    "f = simple_xgb(xgb0, df.drop(to_date+['outcome'],1), df.outcome, skf, 50, 2017, show_feature_imp=True)"
   ]
  },
  {
   "cell_type": "markdown",
   "metadata": {},
   "source": [
    "### 3.3. add more DT feats \n",
    "decreasing of score  -> 0.71953"
   ]
  },
  {
   "cell_type": "code",
   "execution_count": 27,
   "metadata": {
    "collapsed": true
   },
   "outputs": [],
   "source": [
    "add_features=[]\n",
    "for col in to_date:\n",
    "    df[col+'_month'] = df[col].apply(lambda x: x.month)\n",
    "    df[col+'_weekofyear'] = df[col].apply(lambda x: x.weekofyear)  \n",
    "    add_features.append(col+'_month')\n",
    "    add_features.append(col+'_weekofyear')"
   ]
  },
  {
   "cell_type": "code",
   "execution_count": 28,
   "metadata": {},
   "outputs": [
    {
     "name": "stdout",
     "output_type": "stream",
     "text": [
      "Fold: 0 AUC: 0.72046 nrounds: 250 time: 0.4 min\n",
      "Fold: 1 AUC: 0.71895 nrounds: 216 time: 0.8 min\n",
      "Fold: 2 AUC: 0.71468 nrounds: 162 time: 1.0 min\n",
      "Fold: 3 AUC: 0.72481 nrounds: 240 time: 1.4 min\n",
      "Fold: 4 AUC: 0.71874 nrounds: 182 time: 1.7 min\n",
      "Mean AUC: 0.71953 (std: 0.00326) mean nrounds: 210.0\n",
      "------------------------------\n",
      "Feature importance (gini):\n",
      "                        feature    fscore\n",
      "34                 created_year  0.103611\n",
      "33   closing_state_changed_secs  0.087943\n",
      "32                launched_year  0.080816\n",
      "31                       target  0.063463\n",
      "30                created_month  0.031205\n",
      "29          launched_weekofyear  0.030243\n",
      "28            closing-date_year  0.029484\n",
      "27                     currency  0.029372\n",
      "26           state-changed_year  0.028590\n",
      "25                communication  0.026775\n",
      "24            created_dayofyear  0.025753\n",
      "23      closing-date_weekofyear  0.025708\n",
      "22                     location  0.025440\n",
      "21  state_changed_launched_secs  0.025122\n",
      "20                  description  0.024344\n",
      "19           launched_dayofyear  0.024339\n",
      "18               launched_month  0.021776\n",
      "17                launched_week  0.020550\n",
      "16      state-changed_dayofweek  0.020245\n",
      "15           created_weekofyear  0.020167\n",
      "14       closing-date_dayofyear  0.020077\n",
      "13           closing-date_month  0.020055\n",
      "12          state-changed_month  0.020015\n",
      "11                 created_week  0.018177\n",
      "10        launched_created_secs  0.018075\n",
      "9       state-changed_dayofyear  0.017555\n",
      "8                         title  0.017417\n",
      "7            state-changed_week  0.017219\n",
      "6            launched_dayofweek  0.016534\n",
      "5                      keywords  0.016239\n",
      "4                     unique-id  0.015518\n",
      "3             closing-date_week  0.015461\n",
      "2             created_dayofweek  0.014598\n",
      "1      state-changed_weekofyear  0.014094\n",
      "0        closing-date_dayofweek  0.014019\n"
     ]
    }
   ],
   "source": [
    "f = simple_xgb(xgb0, df.drop(to_date+['outcome'],1), df.outcome, skf, 50, 2017, show_feature_imp=True)"
   ]
  },
  {
   "cell_type": "code",
   "execution_count": 22,
   "metadata": {},
   "outputs": [
    {
     "data": {
      "text/plain": [
       "<matplotlib.axes._subplots.AxesSubplot at 0x17906908>"
      ]
     },
     "execution_count": 22,
     "metadata": {},
     "output_type": "execute_result"
    },
    {
     "data": {
      "image/png": "[encoded data removed]",
      "text/plain": [
       "<matplotlib.figure.Figure at 0x176cbf60>"
      ]
     },
     "metadata": {},
     "output_type": "display_data"
    }
   ],
   "source": [
    "(df['state-changed']-df['created']).dt.seconds.hist(bins=100)"
   ]
  },
  {
   "cell_type": "markdown",
   "metadata": {},
   "source": [
    "## 4. Feature engineering: Text processing"
   ]
  },
  {
   "cell_type": "code",
   "execution_count": 69,
   "metadata": {},
   "outputs": [
    {
     "data": {
      "text/html": [
       "<div>\n",
       "<style scoped>\n",
       "    .dataframe tbody tr th:only-of-type {\n",
       "        vertical-align: middle;\n",
       "    }\n",
       "\n",
       "    .dataframe tbody tr th {\n",
       "        vertical-align: top;\n",
       "    }\n",
       "\n",
       "    .dataframe thead th {\n",
       "        text-align: right;\n",
       "    }\n",
       "</style>\n",
       "<table border=\"1\" class=\"dataframe\">\n",
       "  <thead>\n",
       "    <tr style=\"text-align: right;\">\n",
       "      <th></th>\n",
       "      <th>title</th>\n",
       "      <th>description</th>\n",
       "      <th>keywords</th>\n",
       "    </tr>\n",
       "  </thead>\n",
       "  <tbody>\n",
       "    <tr>\n",
       "      <th>103351</th>\n",
       "      <td>E.U.S.A     Euro/American Restaurant</td>\n",
       "      <td>Euro/American restaurant,\\n\\nServing the best ...</td>\n",
       "      <td>eusa-euro-american-restaurant</td>\n",
       "    </tr>\n",
       "    <tr>\n",
       "      <th>83979</th>\n",
       "      <td>Nune Hov Couture - Featuring 'KARTOFIL'</td>\n",
       "      <td>Help manufacture a collection and create a loo...</td>\n",
       "      <td>kartofil</td>\n",
       "    </tr>\n",
       "    <tr>\n",
       "      <th>102398</th>\n",
       "      <td>Pixel Glory - Pets Expansion - Pay What You Want</td>\n",
       "      <td>Draft pets to help your quest to outclass your...</td>\n",
       "      <td>pixel-glory-pets-expansion-pay-what-you-want</td>\n",
       "    </tr>\n",
       "  </tbody>\n",
       "</table>\n",
       "</div>"
      ],
      "text/plain": [
       "                                                   title  \\\n",
       "103351              E.U.S.A     Euro/American Restaurant   \n",
       "83979            Nune Hov Couture - Featuring 'KARTOFIL'   \n",
       "102398  Pixel Glory - Pets Expansion - Pay What You Want   \n",
       "\n",
       "                                              description  \\\n",
       "103351  Euro/American restaurant,\\n\\nServing the best ...   \n",
       "83979   Help manufacture a collection and create a loo...   \n",
       "102398  Draft pets to help your quest to outclass your...   \n",
       "\n",
       "                                            keywords  \n",
       "103351                 eusa-euro-american-restaurant  \n",
       "83979                                       kartofil  \n",
       "102398  pixel-glory-pets-expansion-pay-what-you-want  "
      ]
     },
     "execution_count": 69,
     "metadata": {},
     "output_type": "execute_result"
    }
   ],
   "source": [
    "text_fields = ['title','description','keywords']\n",
    "df_orig[text_fields].sample(3)"
   ]
  },
  {
   "cell_type": "code",
   "execution_count": 31,
   "metadata": {},
   "outputs": [
    {
     "name": "stdout",
     "output_type": "stream",
     "text": [
      "title 107838\n",
      "description 107377\n",
      "keywords 108129\n"
     ]
    }
   ],
   "source": [
    "for col in text_fields:\n",
    "    print (col, df_orig[col].nunique())"
   ]
  },
  {
   "cell_type": "markdown",
   "metadata": {},
   "source": [
    "### 4.1. Word/Letters count\n",
    "score improovment: 0.72055 -> 0.72428"
   ]
  },
  {
   "cell_type": "code",
   "execution_count": 71,
   "metadata": {
    "code_folding": []
   },
   "outputs": [
    {
     "name": "stdout",
     "output_type": "stream",
     "text": [
      "title\n",
      "description\n",
      "keywords\n"
     ]
    }
   ],
   "source": [
    "text_stat_list=[]\n",
    "for col in text_fields:\n",
    "    print (col)\n",
    "    mcol=col+'_clrd'\n",
    "    df_orig[mcol] = df_orig[col].apply(lambda x: str(x).replace('-',' '))\n",
    "    col_name=mcol+'_LetCount'; text_stat_list.append(col_name);\n",
    "    df[col_name] = df_orig[mcol].apply(lambda x: len(str(x)))\n",
    "    col_name=mcol+'_WordCount'; text_stat_list.append(col_name);\n",
    "    df[col_name] = df_orig[mcol].apply(lambda x: len(str(x).split()))"
   ]
  },
  {
   "cell_type": "code",
   "execution_count": 78,
   "metadata": {},
   "outputs": [
    {
     "data": {
      "text/html": [
       "<div>\n",
       "<style scoped>\n",
       "    .dataframe tbody tr th:only-of-type {\n",
       "        vertical-align: middle;\n",
       "    }\n",
       "\n",
       "    .dataframe tbody tr th {\n",
       "        vertical-align: top;\n",
       "    }\n",
       "\n",
       "    .dataframe thead th {\n",
       "        text-align: right;\n",
       "    }\n",
       "</style>\n",
       "<table border=\"1\" class=\"dataframe\">\n",
       "  <thead>\n",
       "    <tr style=\"text-align: right;\">\n",
       "      <th></th>\n",
       "      <th>title_clrd_LetCount</th>\n",
       "      <th>title_clrd_WordCount</th>\n",
       "      <th>description_clrd_LetCount</th>\n",
       "      <th>description_clrd_WordCount</th>\n",
       "      <th>keywords_clrd_LetCount</th>\n",
       "      <th>keywords_clrd_WordCount</th>\n",
       "    </tr>\n",
       "  </thead>\n",
       "  <tbody>\n",
       "    <tr>\n",
       "      <th>41326</th>\n",
       "      <td>28</td>\n",
       "      <td>4</td>\n",
       "      <td>117</td>\n",
       "      <td>18</td>\n",
       "      <td>28</td>\n",
       "      <td>4</td>\n",
       "    </tr>\n",
       "    <tr>\n",
       "      <th>82126</th>\n",
       "      <td>20</td>\n",
       "      <td>5</td>\n",
       "      <td>108</td>\n",
       "      <td>22</td>\n",
       "      <td>20</td>\n",
       "      <td>5</td>\n",
       "    </tr>\n",
       "    <tr>\n",
       "      <th>62017</th>\n",
       "      <td>14</td>\n",
       "      <td>2</td>\n",
       "      <td>44</td>\n",
       "      <td>6</td>\n",
       "      <td>14</td>\n",
       "      <td>2</td>\n",
       "    </tr>\n",
       "  </tbody>\n",
       "</table>\n",
       "</div>"
      ],
      "text/plain": [
       "       title_clrd_LetCount  title_clrd_WordCount  description_clrd_LetCount  \\\n",
       "41326                   28                     4                        117   \n",
       "82126                   20                     5                        108   \n",
       "62017                   14                     2                         44   \n",
       "\n",
       "       description_clrd_WordCount  keywords_clrd_LetCount  \\\n",
       "41326                          18                      28   \n",
       "82126                          22                      20   \n",
       "62017                           6                      14   \n",
       "\n",
       "       keywords_clrd_WordCount  \n",
       "41326                        4  \n",
       "82126                        5  \n",
       "62017                        2  "
      ]
     },
     "execution_count": 78,
     "metadata": {},
     "output_type": "execute_result"
    }
   ],
   "source": [
    "df[text_stat_list].sample(3)"
   ]
  },
  {
   "cell_type": "code",
   "execution_count": 75,
   "metadata": {},
   "outputs": [
    {
     "name": "stdout",
     "output_type": "stream",
     "text": [
      "Fold: 0 AUC: 0.72209 nrounds: 223 time: 0.4 min\n",
      "Fold: 1 AUC: 0.72243 nrounds: 143 time: 0.8 min\n",
      "Fold: 2 AUC: 0.72197 nrounds: 324 time: 1.3 min\n",
      "Fold: 3 AUC: 0.72914 nrounds: 251 time: 1.7 min\n",
      "Fold: 4 AUC: 0.72581 nrounds: 249 time: 2.2 min\n",
      "Mean AUC: 0.72428 (std: 0.00281) mean nrounds: 238.0\n",
      "------------------------------\n",
      "Feature importance (gini):\n",
      "                        feature    fscore\n",
      "31                 created_year  0.116814\n",
      "30   closing_state_changed_secs  0.091576\n",
      "29                       target  0.068068\n",
      "28                launched_year  0.057650\n",
      "27           state-changed_year  0.042331\n",
      "26                     currency  0.037125\n",
      "25            closing-date_year  0.029850\n",
      "24                communication  0.028632\n",
      "23                     location  0.027896\n",
      "22            created_dayofyear  0.027408\n",
      "21  state_changed_launched_secs  0.027379\n",
      "20         title_clrd_WordCount  0.027353\n",
      "19           launched_dayofyear  0.026690\n",
      "18                  description  0.026589\n",
      "17      state-changed_dayofweek  0.024837\n",
      "16       keywords_clrd_LetCount  0.024131\n",
      "15                 created_week  0.023019\n",
      "14                launched_week  0.022806\n",
      "13      keywords_clrd_WordCount  0.022412\n",
      "12       closing-date_dayofyear  0.022230\n",
      "11   description_clrd_WordCount  0.021430\n",
      "10        launched_created_secs  0.021267\n",
      "9           title_clrd_LetCount  0.020316\n",
      "8                         title  0.019643\n",
      "7            launched_dayofweek  0.019504\n",
      "6                      keywords  0.019077\n",
      "5       state-changed_dayofyear  0.018814\n",
      "4            state-changed_week  0.018527\n",
      "3     description_clrd_LetCount  0.018239\n",
      "2        closing-date_dayofweek  0.017011\n",
      "1             closing-date_week  0.015910\n",
      "0             created_dayofweek  0.015465\n"
     ]
    }
   ],
   "source": [
    "f = simple_xgb(xgb0, df.drop(['outcome'],1), df.outcome, skf, 50, 2017, show_feature_imp=True)"
   ]
  },
  {
   "cell_type": "markdown",
   "metadata": {
    "collapsed": true
   },
   "source": [
    "### 4.2. add Word/Letters ratio\n",
    "no improovment - 0.72421"
   ]
  },
  {
   "cell_type": "code",
   "execution_count": 59,
   "metadata": {},
   "outputs": [
    {
     "name": "stdout",
     "output_type": "stream",
     "text": [
      "title\n",
      "description\n",
      "keywords\n"
     ]
    }
   ],
   "source": [
    "for col in text_fields:\n",
    "    print (col)\n",
    "    mcol=col+'_clrd'\n",
    "    df[col+'RATIO'] = df[mcol+'_LetCount']/df[mcol+'_WordCount']"
   ]
  },
  {
   "cell_type": "code",
   "execution_count": 65,
   "metadata": {},
   "outputs": [],
   "source": [
    "ratio_list = ['titleRATIO','descriptionRATIO','keywordsRATIO']"
   ]
  },
  {
   "cell_type": "code",
   "execution_count": 76,
   "metadata": {},
   "outputs": [
    {
     "data": {
      "text/html": [
       "<div>\n",
       "<style scoped>\n",
       "    .dataframe tbody tr th:only-of-type {\n",
       "        vertical-align: middle;\n",
       "    }\n",
       "\n",
       "    .dataframe tbody tr th {\n",
       "        vertical-align: top;\n",
       "    }\n",
       "\n",
       "    .dataframe thead th {\n",
       "        text-align: right;\n",
       "    }\n",
       "</style>\n",
       "<table border=\"1\" class=\"dataframe\">\n",
       "  <thead>\n",
       "    <tr style=\"text-align: right;\">\n",
       "      <th></th>\n",
       "      <th>titleRATIO</th>\n",
       "      <th>descriptionRATIO</th>\n",
       "      <th>keywordsRATIO</th>\n",
       "    </tr>\n",
       "  </thead>\n",
       "  <tbody>\n",
       "    <tr>\n",
       "      <th>20964</th>\n",
       "      <td>6.2</td>\n",
       "      <td>5.647059</td>\n",
       "      <td>6.200000</td>\n",
       "    </tr>\n",
       "    <tr>\n",
       "      <th>55824</th>\n",
       "      <td>9.0</td>\n",
       "      <td>4.962963</td>\n",
       "      <td>9.000000</td>\n",
       "    </tr>\n",
       "    <tr>\n",
       "      <th>27541</th>\n",
       "      <td>6.0</td>\n",
       "      <td>6.150000</td>\n",
       "      <td>5.666667</td>\n",
       "    </tr>\n",
       "  </tbody>\n",
       "</table>\n",
       "</div>"
      ],
      "text/plain": [
       "       titleRATIO  descriptionRATIO  keywordsRATIO\n",
       "20964         6.2          5.647059       6.200000\n",
       "55824         9.0          4.962963       9.000000\n",
       "27541         6.0          6.150000       5.666667"
      ]
     },
     "execution_count": 76,
     "metadata": {},
     "output_type": "execute_result"
    }
   ],
   "source": [
    "df[ratio_list].sample(3)"
   ]
  },
  {
   "cell_type": "code",
   "execution_count": 77,
   "metadata": {},
   "outputs": [
    {
     "name": "stdout",
     "output_type": "stream",
     "text": [
      "Fold: 0 AUC: 0.72206 nrounds: 193 time: 0.6 min\n",
      "Fold: 1 AUC: 0.72297 nrounds: 232 time: 1.0 min\n",
      "Fold: 2 AUC: 0.72065 nrounds: 227 time: 1.4 min\n",
      "Fold: 3 AUC: 0.73072 nrounds: 255 time: 1.9 min\n",
      "Fold: 4 AUC: 0.72463 nrounds: 295 time: 2.6 min\n",
      "Mean AUC: 0.72421 (std: 0.00350) mean nrounds: 240.4\n",
      "------------------------------\n",
      "Feature importance (gini):\n",
      "                        feature    fscore\n",
      "34                 created_year  0.104690\n",
      "33   closing_state_changed_secs  0.084063\n",
      "32                launched_year  0.067209\n",
      "31                       target  0.063093\n",
      "30           state-changed_year  0.033899\n",
      "29            closing-date_year  0.030830\n",
      "28                     location  0.029618\n",
      "27      keywords_clrd_WordCount  0.028700\n",
      "26           launched_dayofyear  0.027002\n",
      "25         title_clrd_WordCount  0.026022\n",
      "24  state_changed_launched_secs  0.025975\n",
      "23                communication  0.025900\n",
      "22                  description  0.024506\n",
      "21            created_dayofyear  0.024504\n",
      "20                launched_week  0.023926\n",
      "19      state-changed_dayofweek  0.023087\n",
      "18                     currency  0.022320\n",
      "17       keywords_clrd_LetCount  0.021952\n",
      "16      state-changed_dayofyear  0.020292\n",
      "15        launched_created_secs  0.020166\n",
      "14                 created_week  0.019744\n",
      "13       closing-date_dayofyear  0.019737\n",
      "12    description_clrd_LetCount  0.019243\n",
      "11   description_clrd_WordCount  0.018930\n",
      "10             descriptionRATIO  0.018586\n",
      "9                    titleRATIO  0.018411\n",
      "8                         title  0.018339\n",
      "7           title_clrd_LetCount  0.018171\n",
      "6            launched_dayofweek  0.018074\n",
      "5            state-changed_week  0.017961\n",
      "4                      keywords  0.017601\n",
      "3        closing-date_dayofweek  0.017160\n",
      "2             closing-date_week  0.016988\n",
      "1                 keywordsRATIO  0.016763\n",
      "0             created_dayofweek  0.016538\n"
     ]
    }
   ],
   "source": [
    "f = simple_xgb(xgb0, df.drop(['outcome'],1), df.outcome, skf, 50, 2017, show_feature_imp=True)"
   ]
  },
  {
   "cell_type": "markdown",
   "metadata": {},
   "source": [
    "### 4.3. TF-IDF on word/lettes followed by ica / kmeans\n",
    "see function addTfIdfFeats description in utils.py"
   ]
  },
  {
   "cell_type": "code",
   "execution_count": 66,
   "metadata": {},
   "outputs": [],
   "source": [
    "vectorizerLetter = TfidfVectorizer(analyzer='char', ngram_range=(3, 4), min_df=4, max_features = 10000)\n",
    "excludeLetter = '0123456789!\"#$%&\\'()*+,-./:;<=>?@[\\\\]^_`{|}~ '\n",
    "svdLetter = TruncatedSVD(n_components=50)\n",
    "ica = FastICA(n_components=2, random_state=2017)\n",
    "vectorizerWord = TfidfVectorizer(analyzer='word', ngram_range=(1, 2), min_df=3, stop_words='english', max_features = 10000)\n",
    "excludeWord = '0123456789!\"#$%&\\'()*+,-./:;<=>?@[\\\\]^_`{|}~'\n",
    "svdWord = TruncatedSVD(n_components=100)\n",
    "cls = KMeans(n_clusters=10, n_jobs=-1, random_state=2017)"
   ]
  },
  {
   "cell_type": "markdown",
   "metadata": {},
   "source": [
    "#### 4.3.1. letters_FICA\n",
    "score improovment: 0.72428 -> 0.72901"
   ]
  },
  {
   "cell_type": "code",
   "execution_count": 82,
   "metadata": {},
   "outputs": [],
   "source": [
    "tfIdfCols=[]\n",
    "df, tfIdfCols = addTfIdfFeats(df_orig, df, excludeLetter, vectorizerLetter, svdLetter, ica,text_fields,'letters_FICA_',tfIdfCols)"
   ]
  },
  {
   "cell_type": "code",
   "execution_count": 83,
   "metadata": {},
   "outputs": [
    {
     "data": {
      "text/html": [
       "<div>\n",
       "<style scoped>\n",
       "    .dataframe tbody tr th:only-of-type {\n",
       "        vertical-align: middle;\n",
       "    }\n",
       "\n",
       "    .dataframe tbody tr th {\n",
       "        vertical-align: top;\n",
       "    }\n",
       "\n",
       "    .dataframe thead th {\n",
       "        text-align: right;\n",
       "    }\n",
       "</style>\n",
       "<table border=\"1\" class=\"dataframe\">\n",
       "  <thead>\n",
       "    <tr style=\"text-align: right;\">\n",
       "      <th></th>\n",
       "      <th>letters_FICA_title0</th>\n",
       "      <th>letters_FICA_title1</th>\n",
       "      <th>letters_FICA_description0</th>\n",
       "      <th>letters_FICA_description1</th>\n",
       "      <th>letters_FICA_keywords0</th>\n",
       "      <th>letters_FICA_keywords1</th>\n",
       "    </tr>\n",
       "  </thead>\n",
       "  <tbody>\n",
       "    <tr>\n",
       "      <th>37387</th>\n",
       "      <td>0.001456</td>\n",
       "      <td>-0.000460</td>\n",
       "      <td>0.002853</td>\n",
       "      <td>0.000678</td>\n",
       "      <td>-0.000257</td>\n",
       "      <td>0.000487</td>\n",
       "    </tr>\n",
       "    <tr>\n",
       "      <th>53425</th>\n",
       "      <td>0.002828</td>\n",
       "      <td>0.001703</td>\n",
       "      <td>-0.000256</td>\n",
       "      <td>0.000005</td>\n",
       "      <td>-0.002889</td>\n",
       "      <td>0.001530</td>\n",
       "    </tr>\n",
       "    <tr>\n",
       "      <th>44236</th>\n",
       "      <td>0.002708</td>\n",
       "      <td>0.001254</td>\n",
       "      <td>-0.001020</td>\n",
       "      <td>-0.003033</td>\n",
       "      <td>-0.002840</td>\n",
       "      <td>0.001148</td>\n",
       "    </tr>\n",
       "  </tbody>\n",
       "</table>\n",
       "</div>"
      ],
      "text/plain": [
       "       letters_FICA_title0  letters_FICA_title1  letters_FICA_description0  \\\n",
       "37387             0.001456            -0.000460                   0.002853   \n",
       "53425             0.002828             0.001703                  -0.000256   \n",
       "44236             0.002708             0.001254                  -0.001020   \n",
       "\n",
       "       letters_FICA_description1  letters_FICA_keywords0  \\\n",
       "37387                   0.000678               -0.000257   \n",
       "53425                   0.000005               -0.002889   \n",
       "44236                  -0.003033               -0.002840   \n",
       "\n",
       "       letters_FICA_keywords1  \n",
       "37387                0.000487  \n",
       "53425                0.001530  \n",
       "44236                0.001148  "
      ]
     },
     "execution_count": 83,
     "metadata": {},
     "output_type": "execute_result"
    }
   ],
   "source": [
    "df[tfIdfCols].sample(3)"
   ]
  },
  {
   "cell_type": "code",
   "execution_count": 84,
   "metadata": {},
   "outputs": [
    {
     "name": "stdout",
     "output_type": "stream",
     "text": [
      "Fold: 0 AUC: 0.72842 nrounds: 318 time: 1.0 min\n",
      "Fold: 1 AUC: 0.72920 nrounds: 184 time: 1.4 min\n",
      "Fold: 2 AUC: 0.72392 nrounds: 230 time: 2.0 min\n",
      "Fold: 3 AUC: 0.73505 nrounds: 167 time: 2.5 min\n",
      "Fold: 4 AUC: 0.72845 nrounds: 259 time: 3.4 min\n",
      "Mean AUC: 0.72901 (std: 0.00355) mean nrounds: 231.6\n",
      "------------------------------\n",
      "Feature importance (gini):\n",
      "                        feature    fscore\n",
      "37                 created_year  0.111714\n",
      "36                       target  0.063290\n",
      "35          letters_FICA_title1  0.052146\n",
      "34   closing_state_changed_secs  0.041711\n",
      "33                communication  0.039403\n",
      "32            closing-date_year  0.038582\n",
      "31                     currency  0.033886\n",
      "30                launched_year  0.031380\n",
      "29  state_changed_launched_secs  0.029967\n",
      "28         title_clrd_WordCount  0.028247\n",
      "27           state-changed_year  0.026459\n",
      "26           launched_dayofyear  0.025915\n",
      "25                     location  0.024729\n",
      "24            created_dayofyear  0.024449\n",
      "23                  description  0.023473\n",
      "22          title_clrd_LetCount  0.022665\n",
      "21   description_clrd_WordCount  0.021444\n",
      "20    letters_FICA_description1  0.020614\n",
      "19       closing-date_dayofyear  0.019368\n",
      "18      keywords_clrd_WordCount  0.018580\n",
      "17        launched_created_secs  0.018482\n",
      "16       keywords_clrd_LetCount  0.018482\n",
      "15    letters_FICA_description0  0.018384\n",
      "14                launched_week  0.018305\n",
      "13                 created_week  0.018242\n",
      "12      state-changed_dayofyear  0.017825\n",
      "11       letters_FICA_keywords1  0.017446\n",
      "10                        title  0.017280\n",
      "9     description_clrd_LetCount  0.017092\n",
      "8            state-changed_week  0.017087\n",
      "7            launched_dayofweek  0.016626\n",
      "6       state-changed_dayofweek  0.016431\n",
      "5        letters_FICA_keywords0  0.016191\n",
      "4           letters_FICA_title0  0.016110\n",
      "3                      keywords  0.015930\n",
      "2             created_dayofweek  0.015392\n",
      "1        closing-date_dayofweek  0.013850\n",
      "0             closing-date_week  0.012822\n"
     ]
    }
   ],
   "source": [
    "f = simple_xgb(xgb0, df.drop(ratio_list+['outcome'],1), df.outcome, skf, 50, 2017, show_feature_imp=True)"
   ]
  },
  {
   "cell_type": "markdown",
   "metadata": {},
   "source": [
    "#### 4.3.2. letters_Kmeans\n",
    "score improovment: 0.72901 -> 0.73510"
   ]
  },
  {
   "cell_type": "code",
   "execution_count": 85,
   "metadata": {},
   "outputs": [],
   "source": [
    "#tfIdfCols=[]\n",
    "df, tfIdfCols2 = addTfIdfFeats(df_orig, df, excludeLetter, vectorizerLetter, svdLetter, cls,text_fields,'letters_kmeans_',tfIdfCols, clust=True)"
   ]
  },
  {
   "cell_type": "code",
   "execution_count": 86,
   "metadata": {},
   "outputs": [
    {
     "data": {
      "text/html": [
       "<div>\n",
       "<style scoped>\n",
       "    .dataframe tbody tr th:only-of-type {\n",
       "        vertical-align: middle;\n",
       "    }\n",
       "\n",
       "    .dataframe tbody tr th {\n",
       "        vertical-align: top;\n",
       "    }\n",
       "\n",
       "    .dataframe thead th {\n",
       "        text-align: right;\n",
       "    }\n",
       "</style>\n",
       "<table border=\"1\" class=\"dataframe\">\n",
       "  <thead>\n",
       "    <tr style=\"text-align: right;\">\n",
       "      <th></th>\n",
       "      <th>letters_FICA_title0</th>\n",
       "      <th>letters_FICA_title1</th>\n",
       "      <th>letters_FICA_description0</th>\n",
       "      <th>letters_FICA_description1</th>\n",
       "      <th>letters_FICA_keywords0</th>\n",
       "      <th>letters_FICA_keywords1</th>\n",
       "      <th>letters_kmeans_title</th>\n",
       "      <th>letters_kmeans_description</th>\n",
       "      <th>letters_kmeans_keywords</th>\n",
       "    </tr>\n",
       "  </thead>\n",
       "  <tbody>\n",
       "    <tr>\n",
       "      <th>70280</th>\n",
       "      <td>0.002798</td>\n",
       "      <td>0.001496</td>\n",
       "      <td>-0.002296</td>\n",
       "      <td>0.000572</td>\n",
       "      <td>-0.003315</td>\n",
       "      <td>0.001377</td>\n",
       "      <td>0</td>\n",
       "      <td>1</td>\n",
       "      <td>2</td>\n",
       "    </tr>\n",
       "    <tr>\n",
       "      <th>23977</th>\n",
       "      <td>-0.000772</td>\n",
       "      <td>0.001160</td>\n",
       "      <td>0.003960</td>\n",
       "      <td>-0.000244</td>\n",
       "      <td>0.001114</td>\n",
       "      <td>0.001084</td>\n",
       "      <td>1</td>\n",
       "      <td>0</td>\n",
       "      <td>6</td>\n",
       "    </tr>\n",
       "    <tr>\n",
       "      <th>103833</th>\n",
       "      <td>-0.001206</td>\n",
       "      <td>0.000441</td>\n",
       "      <td>-0.000887</td>\n",
       "      <td>-0.000950</td>\n",
       "      <td>0.002898</td>\n",
       "      <td>0.000983</td>\n",
       "      <td>1</td>\n",
       "      <td>1</td>\n",
       "      <td>6</td>\n",
       "    </tr>\n",
       "  </tbody>\n",
       "</table>\n",
       "</div>"
      ],
      "text/plain": [
       "        letters_FICA_title0  letters_FICA_title1  letters_FICA_description0  \\\n",
       "70280              0.002798             0.001496                  -0.002296   \n",
       "23977             -0.000772             0.001160                   0.003960   \n",
       "103833            -0.001206             0.000441                  -0.000887   \n",
       "\n",
       "        letters_FICA_description1  letters_FICA_keywords0  \\\n",
       "70280                    0.000572               -0.003315   \n",
       "23977                   -0.000244                0.001114   \n",
       "103833                  -0.000950                0.002898   \n",
       "\n",
       "        letters_FICA_keywords1  letters_kmeans_title  \\\n",
       "70280                 0.001377                     0   \n",
       "23977                 0.001084                     1   \n",
       "103833                0.000983                     1   \n",
       "\n",
       "        letters_kmeans_description  letters_kmeans_keywords  \n",
       "70280                            1                        2  \n",
       "23977                            0                        6  \n",
       "103833                           1                        6  "
      ]
     },
     "execution_count": 86,
     "metadata": {},
     "output_type": "execute_result"
    }
   ],
   "source": [
    "df[tfIdfCols2].sample(3)"
   ]
  },
  {
   "cell_type": "code",
   "execution_count": 87,
   "metadata": {},
   "outputs": [
    {
     "name": "stdout",
     "output_type": "stream",
     "text": [
      "Fold: 0 AUC: 0.73447 nrounds: 366 time: 0.7 min\n",
      "Fold: 1 AUC: 0.73446 nrounds: 272 time: 1.2 min\n",
      "Fold: 2 AUC: 0.73259 nrounds: 204 time: 1.6 min\n",
      "Fold: 3 AUC: 0.74065 nrounds: 195 time: 2.2 min\n",
      "Fold: 4 AUC: 0.73333 nrounds: 206 time: 2.7 min\n",
      "Mean AUC: 0.73510 (std: 0.00287) mean nrounds: 248.6\n",
      "------------------------------\n",
      "Feature importance (gini):\n",
      "                        feature    fscore\n",
      "40                 created_year  0.089566\n",
      "39                       target  0.063135\n",
      "38                launched_year  0.057684\n",
      "37          letters_FICA_title1  0.052985\n",
      "36                communication  0.043634\n",
      "35   closing_state_changed_secs  0.040387\n",
      "34            closing-date_year  0.036775\n",
      "33      letters_kmeans_keywords  0.028420\n",
      "32         title_clrd_WordCount  0.027550\n",
      "31  state_changed_launched_secs  0.026385\n",
      "30         letters_kmeans_title  0.025493\n",
      "29   letters_kmeans_description  0.023653\n",
      "28                     location  0.023572\n",
      "27            created_dayofyear  0.023499\n",
      "26                     currency  0.023088\n",
      "25           launched_dayofyear  0.021377\n",
      "24                  description  0.021238\n",
      "23    letters_FICA_description1  0.019498\n",
      "22   description_clrd_WordCount  0.019361\n",
      "21          title_clrd_LetCount  0.019276\n",
      "20           state-changed_year  0.019225\n",
      "19       keywords_clrd_LetCount  0.018333\n",
      "18                launched_week  0.017923\n",
      "17      state-changed_dayofyear  0.017022\n",
      "16    letters_FICA_description0  0.016811\n",
      "15        launched_created_secs  0.016189\n",
      "14                 created_week  0.015845\n",
      "13    description_clrd_LetCount  0.015575\n",
      "12       closing-date_dayofyear  0.015383\n",
      "11      keywords_clrd_WordCount  0.015381\n",
      "10       letters_FICA_keywords1  0.014903\n",
      "9                         title  0.014571\n",
      "8                      keywords  0.014101\n",
      "7            launched_dayofweek  0.013885\n",
      "6           letters_FICA_title0  0.013380\n",
      "5        letters_FICA_keywords0  0.013339\n",
      "4            state-changed_week  0.012689\n",
      "3             created_dayofweek  0.012668\n",
      "2       state-changed_dayofweek  0.012266\n",
      "1        closing-date_dayofweek  0.012156\n",
      "0             closing-date_week  0.011778\n"
     ]
    }
   ],
   "source": [
    "f = simple_xgb(xgb0, df.drop(ratio_list+['outcome'],1), df.outcome, skf, 50, 2017, show_feature_imp=True)"
   ]
  },
  {
   "cell_type": "markdown",
   "metadata": {},
   "source": [
    "#### 4.3.3. words_FICA\n",
    "score improovment: 0.73510 -> 0.73838"
   ]
  },
  {
   "cell_type": "code",
   "execution_count": 88,
   "metadata": {},
   "outputs": [],
   "source": [
    "df, tfIdfCols3 = addTfIdfFeats(df_orig, df, excludeWord, vectorizerWord, svdWord, ica,text_fields,'words_FICA_',tfIdfCols)"
   ]
  },
  {
   "cell_type": "code",
   "execution_count": 89,
   "metadata": {},
   "outputs": [
    {
     "data": {
      "text/html": [
       "<div>\n",
       "<style scoped>\n",
       "    .dataframe tbody tr th:only-of-type {\n",
       "        vertical-align: middle;\n",
       "    }\n",
       "\n",
       "    .dataframe tbody tr th {\n",
       "        vertical-align: top;\n",
       "    }\n",
       "\n",
       "    .dataframe thead th {\n",
       "        text-align: right;\n",
       "    }\n",
       "</style>\n",
       "<table border=\"1\" class=\"dataframe\">\n",
       "  <thead>\n",
       "    <tr style=\"text-align: right;\">\n",
       "      <th></th>\n",
       "      <th>letters_FICA_title0</th>\n",
       "      <th>letters_FICA_title1</th>\n",
       "      <th>letters_FICA_description0</th>\n",
       "      <th>letters_FICA_description1</th>\n",
       "      <th>letters_FICA_keywords0</th>\n",
       "      <th>letters_FICA_keywords1</th>\n",
       "      <th>letters_kmeans_title</th>\n",
       "      <th>letters_kmeans_description</th>\n",
       "      <th>letters_kmeans_keywords</th>\n",
       "      <th>words_FICA_title0</th>\n",
       "      <th>words_FICA_title1</th>\n",
       "      <th>words_FICA_description0</th>\n",
       "      <th>words_FICA_description1</th>\n",
       "      <th>words_FICA_keywords0</th>\n",
       "      <th>words_FICA_keywords1</th>\n",
       "    </tr>\n",
       "  </thead>\n",
       "  <tbody>\n",
       "    <tr>\n",
       "      <th>41752</th>\n",
       "      <td>-0.000452</td>\n",
       "      <td>-0.002577</td>\n",
       "      <td>-0.003749</td>\n",
       "      <td>-0.001158</td>\n",
       "      <td>0.001077</td>\n",
       "      <td>-0.000015</td>\n",
       "      <td>0</td>\n",
       "      <td>1</td>\n",
       "      <td>6</td>\n",
       "      <td>-0.000300</td>\n",
       "      <td>0.003434</td>\n",
       "      <td>-0.000641</td>\n",
       "      <td>-0.002447</td>\n",
       "      <td>0.000001</td>\n",
       "      <td>0.000001</td>\n",
       "    </tr>\n",
       "    <tr>\n",
       "      <th>90251</th>\n",
       "      <td>0.001009</td>\n",
       "      <td>0.000363</td>\n",
       "      <td>-0.000959</td>\n",
       "      <td>0.000255</td>\n",
       "      <td>-0.001301</td>\n",
       "      <td>0.000426</td>\n",
       "      <td>0</td>\n",
       "      <td>1</td>\n",
       "      <td>2</td>\n",
       "      <td>-0.000945</td>\n",
       "      <td>0.000086</td>\n",
       "      <td>-0.000324</td>\n",
       "      <td>0.001111</td>\n",
       "      <td>0.000001</td>\n",
       "      <td>0.000001</td>\n",
       "    </tr>\n",
       "    <tr>\n",
       "      <th>30860</th>\n",
       "      <td>0.000748</td>\n",
       "      <td>0.000476</td>\n",
       "      <td>0.004570</td>\n",
       "      <td>0.001374</td>\n",
       "      <td>-0.000902</td>\n",
       "      <td>0.000796</td>\n",
       "      <td>1</td>\n",
       "      <td>0</td>\n",
       "      <td>2</td>\n",
       "      <td>-0.000985</td>\n",
       "      <td>-0.000534</td>\n",
       "      <td>0.002053</td>\n",
       "      <td>0.000590</td>\n",
       "      <td>0.000001</td>\n",
       "      <td>0.000001</td>\n",
       "    </tr>\n",
       "  </tbody>\n",
       "</table>\n",
       "</div>"
      ],
      "text/plain": [
       "       letters_FICA_title0  letters_FICA_title1  letters_FICA_description0  \\\n",
       "41752            -0.000452            -0.002577                  -0.003749   \n",
       "90251             0.001009             0.000363                  -0.000959   \n",
       "30860             0.000748             0.000476                   0.004570   \n",
       "\n",
       "       letters_FICA_description1  letters_FICA_keywords0  \\\n",
       "41752                  -0.001158                0.001077   \n",
       "90251                   0.000255               -0.001301   \n",
       "30860                   0.001374               -0.000902   \n",
       "\n",
       "       letters_FICA_keywords1  letters_kmeans_title  \\\n",
       "41752               -0.000015                     0   \n",
       "90251                0.000426                     0   \n",
       "30860                0.000796                     1   \n",
       "\n",
       "       letters_kmeans_description  letters_kmeans_keywords  words_FICA_title0  \\\n",
       "41752                           1                        6          -0.000300   \n",
       "90251                           1                        2          -0.000945   \n",
       "30860                           0                        2          -0.000985   \n",
       "\n",
       "       words_FICA_title1  words_FICA_description0  words_FICA_description1  \\\n",
       "41752           0.003434                -0.000641                -0.002447   \n",
       "90251           0.000086                -0.000324                 0.001111   \n",
       "30860          -0.000534                 0.002053                 0.000590   \n",
       "\n",
       "       words_FICA_keywords0  words_FICA_keywords1  \n",
       "41752              0.000001              0.000001  \n",
       "90251              0.000001              0.000001  \n",
       "30860              0.000001              0.000001  "
      ]
     },
     "execution_count": 89,
     "metadata": {},
     "output_type": "execute_result"
    }
   ],
   "source": [
    "df[tfIdfCols3].sample(3)"
   ]
  },
  {
   "cell_type": "code",
   "execution_count": 90,
   "metadata": {},
   "outputs": [
    {
     "name": "stdout",
     "output_type": "stream",
     "text": [
      "Fold: 0 AUC: 0.73703 nrounds: 320 time: 0.8 min\n",
      "Fold: 1 AUC: 0.73858 nrounds: 240 time: 1.3 min\n",
      "Fold: 2 AUC: 0.73665 nrounds: 346 time: 2.1 min\n",
      "Fold: 3 AUC: 0.74437 nrounds: 220 time: 2.8 min\n",
      "Fold: 4 AUC: 0.73528 nrounds: 270 time: 3.3 min\n",
      "Mean AUC: 0.73838 (std: 0.00317) mean nrounds: 279.2\n",
      "------------------------------\n",
      "Feature importance (gini):\n",
      "                        feature    fscore\n",
      "46                 created_year  0.072006\n",
      "45                       target  0.058571\n",
      "44          letters_FICA_title1  0.049860\n",
      "43            closing-date_year  0.043339\n",
      "42                communication  0.038917\n",
      "41   closing_state_changed_secs  0.037592\n",
      "40         title_clrd_WordCount  0.028410\n",
      "39                     location  0.026801\n",
      "38      letters_kmeans_keywords  0.026387\n",
      "37  state_changed_launched_secs  0.025134\n",
      "36                     currency  0.023558\n",
      "35         letters_kmeans_title  0.023257\n",
      "34   letters_kmeans_description  0.022535\n",
      "33                launched_year  0.022199\n",
      "32           launched_dayofyear  0.020943\n",
      "31            created_dayofyear  0.020522\n",
      "30                  description  0.019042\n",
      "29          title_clrd_LetCount  0.018800\n",
      "28      words_FICA_description0  0.018691\n",
      "27    letters_FICA_description1  0.018553\n",
      "26           state-changed_year  0.018436\n",
      "25   description_clrd_WordCount  0.018366\n",
      "24                 created_week  0.017761\n",
      "23            words_FICA_title1  0.015779\n",
      "22       closing-date_dayofyear  0.015627\n",
      "21        launched_created_secs  0.015546\n",
      "20    letters_FICA_description0  0.015407\n",
      "19       keywords_clrd_LetCount  0.015399\n",
      "18           launched_dayofweek  0.015034\n",
      "17                launched_week  0.015009\n",
      "16      state-changed_dayofyear  0.014863\n",
      "15      words_FICA_description1  0.014798\n",
      "14            words_FICA_title0  0.014787\n",
      "13    description_clrd_LetCount  0.014780\n",
      "12      state-changed_dayofweek  0.014422\n",
      "11       letters_FICA_keywords1  0.014226\n",
      "10           state-changed_week  0.014136\n",
      "9                         title  0.013491\n",
      "8                      keywords  0.013139\n",
      "7           letters_FICA_title0  0.013135\n",
      "6        letters_FICA_keywords0  0.012581\n",
      "5       keywords_clrd_WordCount  0.012298\n",
      "4             created_dayofweek  0.012012\n",
      "3          words_FICA_keywords1  0.011058\n",
      "2             closing-date_week  0.011058\n",
      "1        closing-date_dayofweek  0.010869\n",
      "0          words_FICA_keywords0  0.010868\n"
     ]
    }
   ],
   "source": [
    "f = simple_xgb(xgb0, df.drop(ratio_list+['outcome'],1), df.outcome, skf, 50, 2017, show_feature_imp=True)"
   ]
  },
  {
   "cell_type": "markdown",
   "metadata": {},
   "source": [
    "#### 4.3.4. words_kmeans\n",
    "score improovment: 0.73838 -> 0.73921"
   ]
  },
  {
   "cell_type": "code",
   "execution_count": 91,
   "metadata": {},
   "outputs": [],
   "source": [
    "df, tfIdfCols4 = addTfIdfFeats(df_orig, df, excludeWord, vectorizerWord, svdWord, cls,text_fields,'words_kmeans_',tfIdfCols, clust=True)"
   ]
  },
  {
   "cell_type": "code",
   "execution_count": 92,
   "metadata": {
    "ExecuteTime": {
     "end_time": "2017-12-20T06:34:45.832839Z",
     "start_time": "2017-12-20T06:34:45.632828Z"
    }
   },
   "outputs": [
    {
     "data": {
      "text/html": [
       "<div>\n",
       "<style scoped>\n",
       "    .dataframe tbody tr th:only-of-type {\n",
       "        vertical-align: middle;\n",
       "    }\n",
       "\n",
       "    .dataframe tbody tr th {\n",
       "        vertical-align: top;\n",
       "    }\n",
       "\n",
       "    .dataframe thead th {\n",
       "        text-align: right;\n",
       "    }\n",
       "</style>\n",
       "<table border=\"1\" class=\"dataframe\">\n",
       "  <thead>\n",
       "    <tr style=\"text-align: right;\">\n",
       "      <th></th>\n",
       "      <th>letters_FICA_title0</th>\n",
       "      <th>letters_FICA_title1</th>\n",
       "      <th>letters_FICA_description0</th>\n",
       "      <th>letters_FICA_description1</th>\n",
       "      <th>letters_FICA_keywords0</th>\n",
       "      <th>letters_FICA_keywords1</th>\n",
       "      <th>letters_kmeans_title</th>\n",
       "      <th>letters_kmeans_description</th>\n",
       "      <th>letters_kmeans_keywords</th>\n",
       "      <th>words_FICA_title0</th>\n",
       "      <th>words_FICA_title1</th>\n",
       "      <th>words_FICA_description0</th>\n",
       "      <th>words_FICA_description1</th>\n",
       "      <th>words_FICA_keywords0</th>\n",
       "      <th>words_FICA_keywords1</th>\n",
       "      <th>words_kmeans_title</th>\n",
       "      <th>words_kmeans_description</th>\n",
       "      <th>words_kmeans_keywords</th>\n",
       "    </tr>\n",
       "  </thead>\n",
       "  <tbody>\n",
       "    <tr>\n",
       "      <th>41395</th>\n",
       "      <td>-0.000122</td>\n",
       "      <td>0.000677</td>\n",
       "      <td>0.002270</td>\n",
       "      <td>-0.003171</td>\n",
       "      <td>0.002155</td>\n",
       "      <td>0.000612</td>\n",
       "      <td>1</td>\n",
       "      <td>0</td>\n",
       "      <td>6</td>\n",
       "      <td>-0.001238</td>\n",
       "      <td>0.000623</td>\n",
       "      <td>-0.018207</td>\n",
       "      <td>0.000216</td>\n",
       "      <td>0.000001</td>\n",
       "      <td>0.000001</td>\n",
       "      <td>4</td>\n",
       "      <td>8</td>\n",
       "      <td>0</td>\n",
       "    </tr>\n",
       "    <tr>\n",
       "      <th>84934</th>\n",
       "      <td>0.001282</td>\n",
       "      <td>0.000361</td>\n",
       "      <td>-0.003149</td>\n",
       "      <td>-0.000720</td>\n",
       "      <td>-0.003319</td>\n",
       "      <td>-0.000158</td>\n",
       "      <td>0</td>\n",
       "      <td>1</td>\n",
       "      <td>1</td>\n",
       "      <td>-0.001560</td>\n",
       "      <td>-0.005443</td>\n",
       "      <td>0.001132</td>\n",
       "      <td>0.004838</td>\n",
       "      <td>0.000001</td>\n",
       "      <td>0.000001</td>\n",
       "      <td>4</td>\n",
       "      <td>1</td>\n",
       "      <td>0</td>\n",
       "    </tr>\n",
       "    <tr>\n",
       "      <th>54408</th>\n",
       "      <td>0.002128</td>\n",
       "      <td>-0.000244</td>\n",
       "      <td>0.000386</td>\n",
       "      <td>-0.001006</td>\n",
       "      <td>-0.001247</td>\n",
       "      <td>0.000937</td>\n",
       "      <td>0</td>\n",
       "      <td>2</td>\n",
       "      <td>2</td>\n",
       "      <td>-0.000627</td>\n",
       "      <td>0.000143</td>\n",
       "      <td>0.002068</td>\n",
       "      <td>-0.003257</td>\n",
       "      <td>0.000001</td>\n",
       "      <td>0.000001</td>\n",
       "      <td>4</td>\n",
       "      <td>1</td>\n",
       "      <td>0</td>\n",
       "    </tr>\n",
       "  </tbody>\n",
       "</table>\n",
       "</div>"
      ],
      "text/plain": [
       "       letters_FICA_title0  letters_FICA_title1  letters_FICA_description0  \\\n",
       "41395            -0.000122             0.000677                   0.002270   \n",
       "84934             0.001282             0.000361                  -0.003149   \n",
       "54408             0.002128            -0.000244                   0.000386   \n",
       "\n",
       "       letters_FICA_description1  letters_FICA_keywords0  \\\n",
       "41395                  -0.003171                0.002155   \n",
       "84934                  -0.000720               -0.003319   \n",
       "54408                  -0.001006               -0.001247   \n",
       "\n",
       "       letters_FICA_keywords1  letters_kmeans_title  \\\n",
       "41395                0.000612                     1   \n",
       "84934               -0.000158                     0   \n",
       "54408                0.000937                     0   \n",
       "\n",
       "       letters_kmeans_description  letters_kmeans_keywords  words_FICA_title0  \\\n",
       "41395                           0                        6          -0.001238   \n",
       "84934                           1                        1          -0.001560   \n",
       "54408                           2                        2          -0.000627   \n",
       "\n",
       "       words_FICA_title1  words_FICA_description0  words_FICA_description1  \\\n",
       "41395           0.000623                -0.018207                 0.000216   \n",
       "84934          -0.005443                 0.001132                 0.004838   \n",
       "54408           0.000143                 0.002068                -0.003257   \n",
       "\n",
       "       words_FICA_keywords0  words_FICA_keywords1  words_kmeans_title  \\\n",
       "41395              0.000001              0.000001                   4   \n",
       "84934              0.000001              0.000001                   4   \n",
       "54408              0.000001              0.000001                   4   \n",
       "\n",
       "       words_kmeans_description  words_kmeans_keywords  \n",
       "41395                         8                      0  \n",
       "84934                         1                      0  \n",
       "54408                         1                      0  "
      ]
     },
     "execution_count": 92,
     "metadata": {},
     "output_type": "execute_result"
    }
   ],
   "source": [
    "df[tfIdfCols4].sample(3)"
   ]
  },
  {
   "cell_type": "code",
   "execution_count": 93,
   "metadata": {
    "ExecuteTime": {
     "end_time": "2017-12-20T06:31:03.974150Z",
     "start_time": "2017-12-20T06:31:03.945148Z"
    }
   },
   "outputs": [
    {
     "name": "stdout",
     "output_type": "stream",
     "text": [
      "Fold: 0 AUC: 0.73830 nrounds: 198 time: 0.9 min\n",
      "Fold: 1 AUC: 0.73803 nrounds: 201 time: 1.5 min\n",
      "Fold: 2 AUC: 0.73718 nrounds: 215 time: 2.3 min\n",
      "Fold: 3 AUC: 0.74424 nrounds: 214 time: 2.8 min\n",
      "Fold: 4 AUC: 0.73828 nrounds: 280 time: 3.4 min\n",
      "Mean AUC: 0.73921 (std: 0.00255) mean nrounds: 221.6\n",
      "------------------------------\n",
      "Feature importance (gini):\n",
      "                        feature    fscore\n",
      "49                 created_year  0.098839\n",
      "48                       target  0.057517\n",
      "47           words_kmeans_title  0.046770\n",
      "46          letters_FICA_title1  0.041539\n",
      "45                communication  0.040063\n",
      "44   closing_state_changed_secs  0.037437\n",
      "43         title_clrd_WordCount  0.025080\n",
      "42                     location  0.023588\n",
      "41  state_changed_launched_secs  0.023366\n",
      "40                launched_year  0.022653\n",
      "39            closing-date_year  0.022007\n",
      "38            created_dayofyear  0.019854\n",
      "37   letters_kmeans_description  0.019059\n",
      "36          title_clrd_LetCount  0.018118\n",
      "35           launched_dayofyear  0.017959\n",
      "34         letters_kmeans_title  0.017797\n",
      "33                     currency  0.017645\n",
      "32                  description  0.017467\n",
      "31      words_FICA_description0  0.017227\n",
      "30     words_kmeans_description  0.017055\n",
      "29    letters_FICA_description1  0.016684\n",
      "28           state-changed_year  0.016669\n",
      "27   description_clrd_WordCount  0.016267\n",
      "26      letters_kmeans_keywords  0.015814\n",
      "25                 created_week  0.015487\n",
      "24      keywords_clrd_WordCount  0.014878\n",
      "23           state-changed_week  0.014844\n",
      "22       keywords_clrd_LetCount  0.014421\n",
      "21    letters_FICA_description0  0.014411\n",
      "20        launched_created_secs  0.014260\n",
      "19      words_FICA_description1  0.014069\n",
      "18    description_clrd_LetCount  0.014008\n",
      "17       closing-date_dayofyear  0.013970\n",
      "16            words_FICA_title1  0.013830\n",
      "15            words_FICA_title0  0.013707\n",
      "14      state-changed_dayofyear  0.013620\n",
      "13                launched_week  0.013578\n",
      "12       letters_FICA_keywords1  0.013222\n",
      "11           launched_dayofweek  0.013078\n",
      "10                        title  0.012763\n",
      "9       state-changed_dayofweek  0.012619\n",
      "8                      keywords  0.012345\n",
      "7        letters_FICA_keywords0  0.012042\n",
      "6           letters_FICA_title0  0.012026\n",
      "5          words_FICA_keywords1  0.011739\n",
      "4             closing-date_week  0.011513\n",
      "3             created_dayofweek  0.011098\n",
      "2          words_FICA_keywords0  0.011024\n",
      "1        closing-date_dayofweek  0.010186\n",
      "0         words_kmeans_keywords  0.004786\n"
     ]
    }
   ],
   "source": [
    "f = simple_xgb(xgb0, df.drop(ratio_list+['outcome'],1), df.outcome, skf, 50, 2017, show_feature_imp=True)"
   ]
  },
  {
   "cell_type": "markdown",
   "metadata": {},
   "source": [
    "## 5. Business results evaluation: how model better than just random guessing"
   ]
  },
  {
   "cell_type": "markdown",
   "metadata": {},
   "source": [
    "ROC-AUC metric is good for models comparing but it tells nothing about model quality for business people.\n",
    "Lift chart allows us to compare model performance with random guessing (average outcome rate)"
   ]
  },
  {
   "cell_type": "code",
   "execution_count": 103,
   "metadata": {},
   "outputs": [
    {
     "data": {
      "text/plain": [
       "0.3196274819891056"
      ]
     },
     "execution_count": 103,
     "metadata": {},
     "output_type": "execute_result"
    }
   ],
   "source": [
    "#average outcome rate\n",
    "df.outcome.mean()"
   ]
  },
  {
   "cell_type": "code",
   "execution_count": 95,
   "metadata": {},
   "outputs": [
    {
     "name": "stdout",
     "output_type": "stream",
     "text": [
      "Fold: 0 AUC: 0.73830 nrounds: 198 time: 0.5 min\n",
      "Fold: 1 AUC: 0.73803 nrounds: 201 time: 1.0 min\n",
      "Fold: 2 AUC: 0.73718 nrounds: 215 time: 1.5 min\n",
      "Fold: 3 AUC: 0.74424 nrounds: 214 time: 2.2 min\n",
      "Fold: 4 AUC: 0.73828 nrounds: 280 time: 2.9 min\n"
     ]
    }
   ],
   "source": [
    "# predict train by folds:\n",
    "pred = simple_xgb(xgb0, df.drop(ratio_list+['outcome'],1), df.outcome, skf, 50, 2017, returnTrainPred=True)"
   ]
  },
  {
   "cell_type": "code",
   "execution_count": 116,
   "metadata": {
    "ExecuteTime": {
     "end_time": "2017-11-14T11:04:27.783744Z",
     "start_time": "2017-11-14T11:04:27.701744Z"
    }
   },
   "outputs": [],
   "source": [
    "def plot_lift(y_test, pred, title):\n",
    "    all_pred = pd.DataFrame(np.vstack([y_test, pred])).T\n",
    "    all_pred.columns = ['true', 'pred']\n",
    "    all_pred.sort_values('pred', ascending=False, inplace=True)\n",
    "    pers, gain, lift = [], [], []\n",
    "    for i in range(100):\n",
    "        i+=1\n",
    "        pers.append(i)\n",
    "        n=np.shape(all_pred)[0]*i//100\n",
    "        g=sum(all_pred['true'].head(n))\n",
    "        gain.append(g)\n",
    "        g_base = sum(all_pred['true']) *i/100 \n",
    "        lift.append(g / g_base)\n",
    "    plt.figure(figsize=(10,7));\n",
    "    plt.plot(pers, lift, label='');\n",
    "    plt.xticks(np.arange(0, 100.1, 10.0))\n",
    "    plt.xlabel('% of customers', fontsize=15);\n",
    "    plt.ylabel(\"Lift - how many times better than average\", fontsize=15);\n",
    "    plt.title(title, fontsize=20);\n",
    "    plt.plot(20,1.8, marker='o', color='b', ls='')\n",
    "    plt.plot(5,2.1, marker='o', color='g', ls='')\n",
    "    plt.show();"
   ]
  },
  {
   "cell_type": "code",
   "execution_count": 117,
   "metadata": {
    "ExecuteTime": {
     "end_time": "2017-11-14T11:04:28.273744Z",
     "start_time": "2017-11-14T11:04:27.954744Z"
    }
   },
   "outputs": [
    {
     "data": {
      "image/png": "[encoded data removed]",
      "text/plain": [
       "<matplotlib.figure.Figure at 0x35429588>"
      ]
     },
     "metadata": {},
     "output_type": "display_data"
    }
   ],
   "source": [
    "plt.style.use('ggplot')\n",
    "plot_lift(df.outcome, pred, 'Outcome rate lift');"
   ]
  },
  {
   "cell_type": "markdown",
   "metadata": {},
   "source": [
    "**Plot interpretation:**\n",
    "* If we take **top-20%** cases with highest outcome probabilities  by our model - than we obtain **1.8** times more outcome rate comparing with random choosing (blue point)\n",
    "* If we take **top-5%** cases with highest outcome probabilities  by our model - than we obtain **2.1** times more outcome rate comparing with random choosing (green point)\n",
    "* If we take **100%** (all) cases - than we just get our mean oucome rate - it’s 1 on the graph."
   ]
  }
 ],
 "metadata": {
  "kernelspec": {
   "display_name": "Python 3",
   "language": "python",
   "name": "python3"
  },
  "language_info": {
   "codemirror_mode": {
    "name": "ipython",
    "version": 3
   },
   "file_extension": ".py",
   "mimetype": "text/x-python",
   "name": "python",
   "nbconvert_exporter": "python",
   "pygments_lexer": "ipython3",
   "version": "3.6.3"
  }
 },
 "nbformat": 4,
 "nbformat_minor": 2
}
